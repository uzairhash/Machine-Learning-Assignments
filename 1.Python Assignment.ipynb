{
 "cells": [
  {
   "cell_type": "markdown",
   "metadata": {
    "colab_type": "text",
    "id": "l0ZzOlyxB-kf"
   },
   "source": [
    "<h1>Python: without numpy or sklearn </h1>"
   ]
  },
  {
   "cell_type": "markdown",
   "metadata": {
    "colab_type": "text",
    "id": "C0xO8JV9B-ki"
   },
   "source": [
    "<h3> Q1: Given two matrices please print the product of those two matrices </h3>\n",
    "<pre>\n",
    "\n",
    "Ex 1: A   = [[1 3 4]\n",
    "             [2 5 7]\n",
    "             [5 9 6]]\n",
    "      B   = [[1 0 0]\n",
    "             [0 1 0]\n",
    "             [0 0 1]]\n",
    "      A*B = [[1 3 4]\n",
    "             [2 5 7]\n",
    "             [5 9 6]]\n",
    "\n",
    "     \n",
    "Ex 2: A   = [[1 2]\n",
    "             [3 4]]\n",
    "      B   = [[1 2 3 4 5]\n",
    "             [5 6 7 8 9]]\n",
    "      A*B = [[11 14 17 20 23]\n",
    "             [23 30 36 42 51]]\n",
    "             \n",
    "Ex 3: A   = [[1 2]\n",
    "             [3 4]]\n",
    "      B   = [[1 4]\n",
    "             [5 6]\n",
    "             [7 8]\n",
    "             [9 6]]\n",
    "      A*B =Not possible\n",
    "</pre>"
   ]
  },
  {
   "cell_type": "code",
   "execution_count": 15,
   "metadata": {
    "colab": {},
    "colab_type": "code",
    "id": "rnssAfpgB-kj"
   },
   "outputs": [
    {
     "name": "stdout",
     "output_type": "stream",
     "text": [
      "Not Possible\n",
      "[[1, 3, 4], [2, 5, 7], [5, 9, 6]]\n"
     ]
    }
   ],
   "source": [
    "# write your python code here\n",
    "# you can take the above example as sample input for your program to test\n",
    "# it should work for any general input try not to hard code for only given input examples\n",
    "\n",
    "\n",
    "# you can free to change all these codes/structure\n",
    "# here A and B are list of lists\n",
    "\n",
    "def matrix_mul(A, B):\n",
    "    if len(A[0])!=len(B):\n",
    "        print (\"Not Possible\")\n",
    "        return\n",
    "    else:\n",
    "          C = [[0 for i in range(len(B[0]))]  \n",
    "            for j in range(len(B))] \n",
    "          for i in range (len(A)):\n",
    "              for j in range (len(B[0])):\n",
    "                  for k in range(len(B)) : \n",
    "                      C[i][j]+= A[i][k] * B[k][j]\n",
    "          print (C)\n",
    "        \n",
    "matrix_mul([[1, 2],[3, 4]],[[1, 4],[5, 6],[7, 8],[9, 6]])\n",
    "matrix_mul([[1, 3, 4],[2, 5, 7],[5, 9, 6]],[[1, 0, 0],[0, 1, 0],[0, 0, 1]])"
   ]
  },
  {
   "cell_type": "markdown",
   "metadata": {
    "colab_type": "text",
    "id": "at4VwLggB-kn"
   },
   "source": [
    "<h3> Q2: Select a number randomly with probability proportional to its magnitude from the given array of n elements</h3>\n",
    "\n",
    "consider an experiment, selecting an element from the list A randomly with probability proportional to its magnitude.\n",
    "assume we are doing the same experiment for 100 times with replacement, in each experiment you will print a number that is selected randomly from A.\n",
    "\n",
    "<pre>\n",
    "Ex 1: A = [0 5 27 6 13 28 100 45 10 79]\n",
    "let f(x) denote the number of times x getting selected in 100 experiments.\n",
    "f(100) > f(79) > f(45) > f(28) > f(27) > f(13) > f(10) > f(6) > f(5) > f(0)\n",
    "</pre>"
   ]
  },
  {
   "cell_type": "code",
   "execution_count": 2,
   "metadata": {
    "colab": {},
    "colab_type": "code",
    "id": "B6S2dpBhB-kn"
   },
   "outputs": [
    {
     "ename": "NameError",
     "evalue": "name 'A' is not defined",
     "output_type": "error",
     "traceback": [
      "\u001b[1;31m---------------------------------------------------------------------------\u001b[0m",
      "\u001b[1;31mNameError\u001b[0m                                 Traceback (most recent call last)",
      "\u001b[1;32m<ipython-input-2-0bf1c6253291>\u001b[0m in \u001b[0;36m<module>\u001b[1;34m\u001b[0m\n\u001b[0;32m     18\u001b[0m         \u001b[0mprint\u001b[0m\u001b[1;33m(\u001b[0m\u001b[0mnumber\u001b[0m\u001b[1;33m)\u001b[0m\u001b[1;33m\u001b[0m\u001b[1;33m\u001b[0m\u001b[0m\n\u001b[0;32m     19\u001b[0m \u001b[1;33m\u001b[0m\u001b[0m\n\u001b[1;32m---> 20\u001b[1;33m \u001b[0msampling_based_on_magnitued\u001b[0m\u001b[1;33m(\u001b[0m\u001b[1;33m)\u001b[0m\u001b[1;33m\u001b[0m\u001b[1;33m\u001b[0m\u001b[0m\n\u001b[0m",
      "\u001b[1;32m<ipython-input-2-0bf1c6253291>\u001b[0m in \u001b[0;36msampling_based_on_magnitued\u001b[1;34m()\u001b[0m\n\u001b[0;32m     15\u001b[0m \u001b[1;32mdef\u001b[0m \u001b[0msampling_based_on_magnitued\u001b[0m\u001b[1;33m(\u001b[0m\u001b[1;33m)\u001b[0m\u001b[1;33m:\u001b[0m\u001b[1;33m\u001b[0m\u001b[1;33m\u001b[0m\u001b[0m\n\u001b[0;32m     16\u001b[0m     \u001b[1;32mfor\u001b[0m \u001b[0mi\u001b[0m \u001b[1;32min\u001b[0m \u001b[0mrange\u001b[0m\u001b[1;33m(\u001b[0m\u001b[1;36m1\u001b[0m\u001b[1;33m,\u001b[0m\u001b[1;36m100\u001b[0m\u001b[1;33m)\u001b[0m\u001b[1;33m:\u001b[0m\u001b[1;33m\u001b[0m\u001b[1;33m\u001b[0m\u001b[0m\n\u001b[1;32m---> 17\u001b[1;33m         \u001b[0mnumber\u001b[0m \u001b[1;33m=\u001b[0m \u001b[0mpick_a_number_from_list\u001b[0m\u001b[1;33m(\u001b[0m\u001b[0mA\u001b[0m\u001b[1;33m)\u001b[0m\u001b[1;33m\u001b[0m\u001b[1;33m\u001b[0m\u001b[0m\n\u001b[0m\u001b[0;32m     18\u001b[0m         \u001b[0mprint\u001b[0m\u001b[1;33m(\u001b[0m\u001b[0mnumber\u001b[0m\u001b[1;33m)\u001b[0m\u001b[1;33m\u001b[0m\u001b[1;33m\u001b[0m\u001b[0m\n\u001b[0;32m     19\u001b[0m \u001b[1;33m\u001b[0m\u001b[0m\n",
      "\u001b[1;31mNameError\u001b[0m: name 'A' is not defined"
     ]
    }
   ],
   "source": [
    "from random import uniform\n",
    "# write your python code here\n",
    "# you can take the above example as sample input for your program to test\n",
    "# it should work for any general input try not to hard code for only given input examples\n",
    "\n",
    "\n",
    "# you can free to change all these codes/structure\n",
    "def pick_a_number_from_list(A):\n",
    "    # your code here for picking an element from with the probability propotional to its magnitude\n",
    "    #.\n",
    "    #.\n",
    "    #.\n",
    "    \n",
    "    \n",
    "    return #selected_random_number\n",
    "\n",
    "def sampling_based_on_magnitued():\n",
    "    for i in range(1,100):\n",
    "        number = pick_a_number_from_list(A)\n",
    "        print(number)\n",
    "\n",
    "sampling_based_on_magnitued()"
   ]
  },
  {
   "cell_type": "markdown",
   "metadata": {
    "colab_type": "text",
    "id": "D1xQy2WWB-kq"
   },
   "source": [
    "<h3> Q3: Replace the digits in the string with #</h3>\n",
    "\n",
    "consider a string that will have digits in that, we need to remove all the not digits and replace the digits with #\n",
    "<pre>\n",
    "Ex 1: A = 234                Output: ###\n",
    "Ex 2: A = a2b3c4             Output: ###\n",
    "Ex 3: A = abc                Output:   (empty string)\n",
    "Ex 5: A = #2a$#b%c%561#      Output: ####\n",
    "</pre>"
   ]
  },
  {
   "cell_type": "code",
   "execution_count": 17,
   "metadata": {
    "colab": {},
    "colab_type": "code",
    "id": "fxczi2jzB-kr"
   },
   "outputs": [
    {
     "name": "stdout",
     "output_type": "stream",
     "text": [
      "###\n"
     ]
    }
   ],
   "source": [
    "import re\n",
    "# write your python code here\n",
    "# you can take the above example as sample input for your program to test\n",
    "# it should work for any general input try not to hard code for only given input examples\n",
    "\n",
    "# you can free to change all these codes/structure\n",
    "# String: it will be the input to your program\n",
    "def replace_digits(String):\n",
    "   x =re.sub(\"\\D\",\"\", String)\n",
    "   y= re.sub(\"\\d\", \"#\", x)            \n",
    "   print (y)\n",
    "\n",
    "replace_digits(\"abc123\")"
   ]
  },
  {
   "cell_type": "markdown",
   "metadata": {
    "colab_type": "text",
    "id": "j7h0Ywg7B-kw"
   },
   "source": [
    "<h3> Q4: Students marks dashboard</h3>\n",
    "\n",
    "consider the marks list of class students given two lists <br>\n",
    "Students = ['student1','student2','student3','student4','student5','student6','student7','student8','student9','student10'] <br>\n",
    "Marks = [45, 78, 12, 14, 48, 43, 45, 98, 35, 80] <br>\n",
    "from the above two lists the Student[0] got Marks[0],  Student[1] got Marks[1] and so on <br><br>\n",
    "your task is to print the name of students\n",
    "<strong>a. Who got top 5 ranks, in the descending order of marks</strong> <br>\n",
    "<strong>b. Who got least 5 ranks, in the increasing order of marks</strong><br>\n",
    "<strong>d. Who got marks between  &gt;25th percentile &lt;75th percentile, in the increasing order of marks</strong>\n",
    "\n",
    "<pre>\n",
    "Ex 1: \n",
    "Students=['student1','student2','student3','student4','student5','student6','student7','student8','student9','student10'] \n",
    "Marks = [45, 78, 12, 14, 48, 43, 47, 98, 35, 80]\n",
    "a. \n",
    "student8  98\n",
    "student10 80\n",
    "student2  78\n",
    "student5  48\n",
    "student7  47\n",
    "b.\n",
    "student3 12\n",
    "student4 14\n",
    "student9 35\n",
    "student6 43\n",
    "student1 45\n",
    "c.\n",
    "student9 35\n",
    "student6 43\n",
    "student1 45\n",
    "student7 47\n",
    "student5 48\n",
    "</pre>"
   ]
  },
  {
   "cell_type": "code",
   "execution_count": 19,
   "metadata": {
    "colab": {},
    "colab_type": "code",
    "id": "cxPJgItsB-kx"
   },
   "outputs": [
    {
     "name": "stdout",
     "output_type": "stream",
     "text": [
      "top_5_students [('student8', 98), ('student10', 80), ('student2', 78), ('student5', 48), ('student7', 47)]\n",
      "least_5_students [('student3', 12), ('student4', 14), ('student9', 35), ('student6', 43), ('student1', 45)]\n",
      "Students within_25 and _75\n",
      "student9: 35\n",
      "student6: 43\n",
      "student1: 45\n",
      "student7: 47\n",
      "student5: 48\n"
     ]
    }
   ],
   "source": [
    "# write your python code here\n",
    "# you can take the above example as sample input for your program to test\n",
    "# it should work for any general input try not to hard code for only given input examples\n",
    "\n",
    "# you can free to change all these codes/structure\n",
    "def display_dash_board(students, marks):\n",
    "    # write code for computing top top 5 students\n",
    "    Studentmarks= {students[i]: marks[i] for i in range(len(students))}\n",
    "    top_5_students =sorted(Studentmarks.items(), key=lambda item: item[1], reverse= True)\n",
    "    print(\"top_5_students\",top_5_students[:5]) \n",
    "    least_5_students =sorted(Studentmarks.items(), key=lambda item: item[1], reverse= False)\n",
    "    print(\"least_5_students\",least_5_students[:5])\n",
    "    print(\"Students within_25 and _75\")\n",
    "    for key, value in sorted(Studentmarks.items(), key=lambda item: item[1]):\n",
    "        percentile = value * 100.0 / max(marks) \n",
    "        if 25 < percentile < 75 :\n",
    "            print(\"%s: %d\" % (key, value))\n",
    "display_dash_board(['student1','student2','student3','student4','student5','student6','student7','student8','student9','student10'],[45, 78, 12, 14, 48, 43, 47, 98, 35, 80])"
   ]
  },
  {
   "cell_type": "markdown",
   "metadata": {
    "colab_type": "text",
    "id": "qha0OhQHB-k1"
   },
   "source": [
    "<h3> Q5: Find the closest points</h3>\n",
    "\n",
    "consider you have given n data points in the form of list of tuples like S=[(x1,y1),(x2,y2),(x3,y3),(x4,y4),(x5,y5),..,(xn,yn)] and a point P=(p,q) <br> your task is to find 5 closest points(based on cosine distance) in S from P\n",
    "<br>cosine distance between two points (x,y) and (p,q) is defind as $cos^{-1}(\\frac{(x\\cdot p+y\\cdot q)}{\\sqrt(x^2+y^2)\\cdot\\sqrt(p^2+q^2)})$\n",
    "<pre>\n",
    "Ex:\n",
    "\n",
    "S= [(1,2),(3,4),(-1,1),(6,-7),(0, 6),(-5,-8),(-1,-1)(6,0),(1,-1)]\n",
    "P= (3,-4)\n",
    "<img src='https://i.imgur.com/vIFPOcG.jpg', width=300>\n",
    "Output:\n",
    "(6,-7)\n",
    "(1,-1)\n",
    "(6,0)\n",
    "(-5,-8)\n",
    "(-1,-1)\n",
    "</pre>"
   ]
  },
  {
   "cell_type": "code",
   "execution_count": null,
   "metadata": {
    "colab": {},
    "colab_type": "code",
    "id": "wA5I1g-2B-k2"
   },
   "outputs": [],
   "source": [
    "import math\n",
    "\n",
    "# write your python code here\n",
    "# you can take the above example as sample input for your program to test\n",
    "# it should work for any general input try not to hard code for only given input examples\n",
    "# you can free to change all these codes/structure\n",
    "\n",
    "\n",
    "# here S is list of tuples and P is a tuple ot len=2\n",
    "mport math\n",
    "def closest_points_to_p(S, P):\n",
    "    cosine_dist = []\n",
    "\n",
    "    for i, j in S:\n",
    "        A= i* P[0] + j * P[1]\n",
    "        B = math.sqrt(i * i + j * j) * math.sqrt(P[0] * P[0] + P[1] * P[1])\n",
    "        cosine_dist.append(math.acos(A/B))\n",
    "    X = cosine_dist\n",
    "    Y = [S for S in sorted(zip(S,X), key=lambda i:i[1])]\n",
    "    for i, j in Y[:5]:\n",
    "        print(i)"
   ]
  },
  {
   "cell_type": "markdown",
   "metadata": {
    "colab_type": "text",
    "id": "-g11jeAiB-k5"
   },
   "source": [
    "<h3> Q6: Find Which line separates oranges and apples</h3>\n",
    "consider you have given two set of data points in the form of list of tuples like \n",
    "<pre>\n",
    "Red =[(R11,R12),(R21,R22),(R31,R32),(R41,R42),(R51,R52),..,(Rn1,Rn2)]\n",
    "Blue=[(B11,B12),(B21,B22),(B31,B32),(B41,B42),(B51,B52),..,(Bm1,Bm2)]\n",
    "</pre>\n",
    "and set of line equations(in the string formate, i.e list of strings)\n",
    "<pre>\n",
    "Lines = [a1x+b1y+c1,a2x+b2y+c2,a3x+b3y+c3,a4x+b4y+c4,..,K lines]\n",
    "Note: you need to string parsing here and get the coefficients of x,y and intercept\n",
    "</pre>\n",
    "your task is to for each line that is given print \"YES\"/\"NO\", you will print yes, if all the red points are one side of the line and blue points are other side of the line, otherwise no\n",
    "<pre>\n",
    "Ex:\n",
    "Red= [(1,1),(2,1),(4,2),(2,4), (-1,4)]\n",
    "Blue= [(-2,-1),(-1,-2),(-3,-2),(-3,-1),(1,-3)]\n",
    "Lines=[\"1x+1y+0\",\"1x-1y+0\",\"1x+0y-3\",\"0x+1y-0.5\"]\n",
    "<img src='https://i.imgur.com/DoQf7mE.jpg' width=400>\n",
    "Output:\n",
    "YES\n",
    "NO\n",
    "NO\n",
    "YES\n",
    "</pre>"
   ]
  },
  {
   "cell_type": "code",
   "execution_count": 24,
   "metadata": {
    "colab": {},
    "colab_type": "code",
    "id": "eRxExaTRB-k6"
   },
   "outputs": [
    {
     "name": "stdout",
     "output_type": "stream",
     "text": [
      "[[-6, -9, -30, -24, -6], [0, 1, -2, 4, -20], [4, 10, 0, 0, 8], [-1, -2, -4, -4, -12]]\n",
      "Yes\n",
      "no\n",
      "no\n",
      "Yes\n"
     ]
    }
   ],
   "source": [
    "import math\n",
    "# write your python code here\n",
    "# you can take the above example as sample input for your program to test\n",
    "# it should work for any general input try not to hard code for only given input strings\n",
    "\n",
    "\n",
    "# you can free to change all these codes/structure\n",
    "eq1 = []\n",
    "eq2 = []\n",
    "def i_am_the_one(Red,Blue,Lines):\n",
    "    for i in Lines:\n",
    "        a=i[0];b=i[2]+i[3];c=i[5]+i[6]\n",
    "        n = [];m=[]\n",
    "        for j in Red:\n",
    "            x1=j[0];y1=j[1]\n",
    "            n.append(int(a) * int(x1) + int(b) * int(y1)-int(c))\n",
    "        eq1.append(n)\n",
    "        for j in Blue:\n",
    "            x2=j[0];y2=j[1]\n",
    "            m.append(int(a) * int(x2) + int(b) * int(y2)-int(c))\n",
    "        eq2.append(m)\n",
    "    \n",
    "    p=[]\n",
    "    for i,j in zip(eq1,eq2):\n",
    "        q = []\n",
    "        for k,l in zip(i,j):\n",
    "            x=k*l\n",
    "            q.append(x)\n",
    "        p.append(q)\n",
    "    print(p)\n",
    "    for i in p:\n",
    "        if all(j <0 for j in i):\n",
    "        \n",
    "            print('Yes')\n",
    "        else:\n",
    "            print('no')\n",
    "i_am_the_one([(1,1),(2,1),(4,2),(2,4), (-1,4)],[(-2,-1),(-1,-2),(-3,-2),(-3,-1),(1,-3)],[\"1x+1y+0\",\"1x-1y+0\",\"1x+0y-3\",\"0x+1y-0.5\"])"
   ]
  },
  {
   "cell_type": "markdown",
   "metadata": {
    "colab_type": "text",
    "id": "9OBpURbNB-k9"
   },
   "source": [
    "<h3> Q7: Filling the missing values in the specified formate</h3>\n",
    "You will be given a string with digits and '\\_'(missing value) symbols you have to replace the '\\_' symbols as explained \n",
    "<pre>\n",
    "Ex 1: _, _, _, 24 ==> 24/4, 24/4, 24/4, 24/4 i.e we. have distributed the 24 equally to all 4 places <br>\n",
    "Ex 2: 40, _, _, _, 60 ==> (60+40)/5,(60+40)/5,(60+40)/5,(60+40)/5,(60+40)/5 ==> 20, 20, 20, 20, 20 i.e. the sum of (60+40) is distributed qually to all 5 places<br>\n",
    "Ex 3: 80, _, _, _, _  ==> 80/5,80/5,80/5,80/5,80/5 ==> 16, 16, 16, 16, 16 i.e. the 80 is distributed qually to all 5 missing values that are right to it<br>\n",
    "Ex 4: _, _, 30, _, _, _, 50, _, _  \n",
    "==> we will fill the missing values from left to right \n",
    "    a. first we will distribute the 30 to left two missing values (10, 10, 10, _, _, _, 50, _, _)\n",
    "    b. now distribute the sum (10+50) missing values in between (10, 10, 12, 12, 12, 12, 12, _, _) \n",
    "    c. now we will distribute 12 to right side missing values (10, 10, 12, 12, 12, 12, 4, 4, 4)\n",
    "</pre>\n",
    "for a given string with comma seprate values, which will have both missing values numbers like ex: \"_, _, x, _, _, _\"\n",
    "you need fill the missing values\n",
    "\n",
    "Q: your program reads a string like ex: \"_, _, x, _, _, _\" and returns the filled sequence\n",
    "\n",
    "Ex: \n",
    "<pre>\n",
    "Input1: \"_,_,_,24\"\n",
    "Output1: 6,6,6,6\n",
    "\n",
    "Input2: \"40,_,_,_,60\"\n",
    "Output2: 20,20,20,20,20\n",
    "\n",
    "Input3: \"80,_,_,_,_\"\n",
    "Output3: 16,16,16,16,16\n",
    "\n",
    "Input4: \"_,_,30,_,_,_,50,_,_\"\n",
    "Output4: 10,10,12,12,12,12,4,4,4\n",
    "</pre>\n",
    "\n"
   ]
  },
  {
   "cell_type": "code",
   "execution_count": 21,
   "metadata": {
    "colab": {},
    "colab_type": "code",
    "id": "nZmpzHs_B-k-"
   },
   "outputs": [
    {
     "name": "stdout",
     "output_type": "stream",
     "text": [
      "[6.0, 6.0, 6.0, 6.0]\n"
     ]
    }
   ],
   "source": [
    "# write your python code here\n",
    "# you can take the above example as sample input for your program to test\n",
    "# it should work for any general input try not to hard code for only given input strings\n",
    "\n",
    "\n",
    "# you can free to change all these codes/structure\n",
    "def curve_smoothing(string):\n",
    "\telements = string.split(\",\")\n",
    "\tl = len(elements)\n",
    "\ti = 0\n",
    "\twhile i<l-1:\n",
    "\t\tprevInd = i\n",
    "\t\tsum = int(0)\n",
    "\t\tif elements[prevInd] != '_':\n",
    "\t\t\tsum = sum + int(elements[prevInd])\n",
    "\t\ti+=1\n",
    "\t\twhile i<l and elements[i] == '_':\n",
    "\t\t\ti+=1\n",
    "\t\tlInd = prevInd\n",
    "\t\tif i<l:\n",
    "\t\t\tsum+=int(elements[i])\n",
    "\t\t\tlInd = i+1\n",
    "\t\telse:\n",
    "\t\t\tlInd = i\n",
    "\t\tavg = sum/(lInd-prevInd)\n",
    "\t\tfor x in range(prevInd, lInd):\n",
    "\t\t\telements[x] = avg\n",
    "\treturn elements\n",
    "\n",
    "S=  \"_,_,_,24\"\n",
    "smoothed_values= curve_smoothing(S)\n",
    "print(smoothed_values)"
   ]
  },
  {
   "cell_type": "markdown",
   "metadata": {
    "colab_type": "text",
    "id": "RBz4pzlfB-lB"
   },
   "source": [
    "<h3> Q8: Filling the missing values in the specified formate</h3>\n",
    "You will be given a list of lists, each sublist will be of length 2 i.e. [[x,y],[p,q],[l,m]..[r,s]]\n",
    "consider its like a martrix of n rows and two columns\n",
    "1. the first column F will contain only 5 uniques values (F1, F2, F3, F4, F5)\n",
    "2. the second column S will contain only 3 uniques values (S1, S2, S3)\n",
    "<pre>\n",
    "your task is to find\n",
    "a. Probability of P(F=F1|S==S1), P(F=F1|S==S2), P(F=F1|S==S3)\n",
    "b. Probability of P(F=F2|S==S1), P(F=F2|S==S2), P(F=F2|S==S3)\n",
    "c. Probability of P(F=F3|S==S1), P(F=F3|S==S2), P(F=F3|S==S3)\n",
    "d. Probability of P(F=F4|S==S1), P(F=F4|S==S2), P(F=F4|S==S3)\n",
    "e. Probability of P(F=F5|S==S1), P(F=F5|S==S2), P(F=F5|S==S3)\n",
    "</pre>\n",
    "Ex:\n",
    "\n",
    "<pre>\n",
    "[[F1,S1],[F2,S2],[F3,S3],[F1,S2],[F2,S3],[F3,S2],[F2,S1],[F4,S1],[F4,S3],[F5,S1]]\n",
    "\n",
    "a. P(F=F1|S==S1)=1/4, P(F=F1|S==S2)=1/3, P(F=F1|S==S3)=0/3\n",
    "b. P(F=F2|S==S1)=1/4, P(F=F2|S==S2)=1/3, P(F=F2|S==S3)=1/3\n",
    "c. P(F=F3|S==S1)=0/4, P(F=F3|S==S2)=1/3, P(F=F3|S==S3)=1/3\n",
    "d. P(F=F4|S==S1)=1/4, P(F=F4|S==S2)=0/3, P(F=F4|S==S3)=1/3\n",
    "e. P(F=F5|S==S1)=1/4, P(F=F5|S==S2)=0/3, P(F=F5|S==S3)=0/3\n",
    "</pre>\n",
    "\n",
    "\n"
   ]
  },
  {
   "cell_type": "code",
   "execution_count": null,
   "metadata": {
    "colab": {},
    "colab_type": "code",
    "id": "e-1giz1MB-lC"
   },
   "outputs": [],
   "source": [
    "# write your python code here\n",
    "# you can take the above example as sample input for your program to test\n",
    "# it should work for any general input try not to hard code for only given input strings\n",
    "\n",
    "\n",
    "\n",
    "# you can free to change all these codes/structure\n",
    "def compute_conditional_probabilites(A):\n",
    "    # your code\n",
    "    # print the output as per the instructions\n",
    "\n",
    "A = [['F1','S1'],['F2','S2'],['F3','S3'],['F1','S2'],['F2','S3'],['F3','S2'],['F2','S1'],['F4','S1'],['F4','S3'],['F5','S1']]\n",
    "\n",
    "compute_conditional_probabilites(A)"
   ]
  },
  {
   "cell_type": "markdown",
   "metadata": {
    "colab_type": "text",
    "id": "n4HS87QmB-lF"
   },
   "source": [
    "<h3> Q9: Given two sentances S1, S2</h3>\n",
    "You will be given two sentances S1, S2 your task is to find \n",
    "<pre>\n",
    "a. Number of common words between S1, S2\n",
    "b. Words in S1 but not in S2\n",
    "c. Words in S2 but not in S1\n",
    "</pre>\n",
    "\n",
    "Ex: \n",
    "<pre>\n",
    "S1= \"the first column F will contain only 5 uniques values\"\n",
    "S2= \"the second column S will contain only 3 uniques values\"\n",
    "Output:\n",
    "a. 7\n",
    "b. ['first','F','5']\n",
    "c. ['second','S','3']\n",
    "</pre>"
   ]
  },
  {
   "cell_type": "code",
   "execution_count": 23,
   "metadata": {
    "colab": {},
    "colab_type": "code",
    "id": "Ez7hlHK0B-lG"
   },
   "outputs": [
    {
     "name": "stdout",
     "output_type": "stream",
     "text": [
      "a.  7\n",
      "b.  ['first', 'F', '5']\n",
      "c.  ['second', 'S', '3']\n"
     ]
    }
   ],
   "source": [
    "# write your python code here\n",
    "# you can take the above example as sample input for your program to test\n",
    "# it should work for any general input try not to hard code for only given input strings\n",
    "\n",
    "# you can free to change all these codes/structure\n",
    "def string_features(S1, S2):\n",
    "\twList1 = S1.split(\" \")\n",
    "\twList2 = S2.split(\" \")\n",
    "\ta = 0\n",
    "\tb = []\n",
    "\tc = []\n",
    "\tfor w1 in wList1:\n",
    "\t\tfor w2 in wList2:\n",
    "\t\t\tif w1 == w2:\n",
    "\t\t\t\ta+=1\n",
    "\t\n",
    "\tfor w1 in wList1:\n",
    "\t\tfound = 0\n",
    "\t\tfor w2 in wList2:\n",
    "\t\t\tif w1 == w2:\n",
    "\t\t\t\tfound = 1\n",
    "\t\t\t\tbreak\n",
    "\t\tif found == 0:\n",
    "\t\t\tb.append(w1)\n",
    "\t\n",
    "\tfor w2 in wList2:\n",
    "\t\tfound = 0\n",
    "\t\tfor w1 in wList1:\n",
    "\t\t\tif w2 == w1:\n",
    "\t\t\t\tfound = 1\n",
    "\t\t\t\tbreak\n",
    "\t\tif found == 0:\n",
    "\t\t\tc.append(w2)\n",
    "\n",
    "\treturn a,b,c\n",
    "\n",
    "S1= \"the first column F will contain only 5 uniques values\"\n",
    "S2= \"the second column S will contain only 3 uniques values\"\n",
    "a,b,c = string_features(S1, S2)\n",
    "print(\"a. \", a)\n",
    "print(\"b. \", b)\n",
    "print(\"c. \", c)\n"
   ]
  },
  {
   "cell_type": "markdown",
   "metadata": {
    "colab_type": "text",
    "id": "XefXVEjCB-lI"
   },
   "source": [
    "<h3> Q10: Given two sentances S1, S2</h3>\n",
    "You will be given a list of lists, each sublist will be of length 2 i.e. [[x,y],[p,q],[l,m]..[r,s]]\n",
    "consider its like a martrix of n rows and two columns\n",
    "\n",
    "a. the first column Y will contain interger values <br>\n",
    "b. the second column $Y_{score}$ will be having float values <br>\n",
    "Your task is to find the value of $f(Y,Y_{score}) = -1*\\frac{1}{n}\\Sigma_{for each Y,Y_{score} pair}(Ylog10(Y_{score})+(1-Y)log10(1-Y_{score}))$ here n is the number of rows in the matrix\n",
    "<pre>\n",
    "Ex:\n",
    "[[1, 0.4], [0, 0.5], [0, 0.9], [0, 0.3], [0, 0.6], [1, 0.1], [1, 0.9], [1, 0.8]]\n",
    "output:\n",
    "0.4243099\n",
    "</pre>\n",
    "$\\frac{-1}{8}\\cdot((1\\cdot log_{10}(0.4)+0\\cdot log_{10}(0.6))+(0\\cdot log_{10}(0.5)+1\\cdot log_{10}(0.5)) + ... + (1\\cdot log_{10}(0.8)+0\\cdot log_{10}(0.2)) )$"
   ]
  },
  {
   "cell_type": "code",
   "execution_count": null,
   "metadata": {
    "colab": {},
    "colab_type": "code",
    "id": "N9zkagyNB-lJ"
   },
   "outputs": [],
   "source": [
    "# write your python code here\n",
    "# you can take the above example as sample input for your program to test\n",
    "# it should work for any general input try not to hard code for only given input strings\n",
    "\n",
    "\n",
    "# you can free to change all these codes/structure\n",
    "def compute_log_loss(A):\n",
    "    # your code\n",
    "    \n",
    "    return loss\n",
    "\n",
    "A = [[1, 0.4], [0, 0.5], [0, 0.9], [0, 0.3], [0, 0.6], [1, 0.1], [1, 0.9], [1, 0.8]]\n",
    "loss = compute_log_loss(A)\n",
    "print(# the above loss)"
   ]
  }
 ],
 "metadata": {
  "colab": {
   "collapsed_sections": [],
   "name": "1.Python Assignment.ipynb",
   "provenance": []
  },
  "kernelspec": {
   "display_name": "Python 3",
   "language": "python",
   "name": "python3"
  },
  "language_info": {
   "codemirror_mode": {
    "name": "ipython",
    "version": 3
   },
   "file_extension": ".py",
   "mimetype": "text/x-python",
   "name": "python",
   "nbconvert_exporter": "python",
   "pygments_lexer": "ipython3",
   "version": "3.7.4"
  }
 },
 "nbformat": 4,
 "nbformat_minor": 1
}
